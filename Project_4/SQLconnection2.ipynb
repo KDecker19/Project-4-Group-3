{
 "cells": [
  {
   "cell_type": "code",
   "execution_count": 7,
   "metadata": {},
   "outputs": [
    {
     "data": {
      "text/plain": [
       "<sqlite3.Cursor at 0x1f777ddafc0>"
      ]
     },
     "execution_count": 7,
     "metadata": {},
     "output_type": "execute_result"
    }
   ],
   "source": [
    "import sqlite3\n",
    "\n",
    "conn = sqlite3.connect('dogs.db', timeout=10)\n",
    "\n",
    "c = conn.cursor()\n",
    "\n",
    "c.execute('DROP TABLE IF EXISTS dogimages')\n"
   ]
  },
  {
   "cell_type": "code",
   "execution_count": 8,
   "metadata": {},
   "outputs": [],
   "source": [
    "c.execute('''\n",
    "          CREATE TABLE dogimages (\n",
    "            id INTEGER,\n",
    "            class TEXT,\n",
    "            image BYTEA\n",
    "          )''')\n",
    "\n",
    "conn.commit()\n"
   ]
  },
  {
   "cell_type": "code",
   "execution_count": 4,
   "metadata": {},
   "outputs": [
    {
     "data": {
      "text/plain": [
       "<sqlite3.Cursor at 0x1f777ddb7c0>"
      ]
     },
     "execution_count": 4,
     "metadata": {},
     "output_type": "execute_result"
    }
   ],
   "source": [
    "c.execute(\"INSERT INTO dogimages VALUES (1, 'Pekenese', 'fdsat23t23')\")\n",
    "\n",
    "#dog_row = [\n",
    "          #(1, 'Pekenese', '35223523'),\n",
    "          #(2, 'Doberman', '2t3y890hwgiou'),\n",
    "          #(3, 'Big Dog', 'asdfsdasdaf')  \n",
    "\n",
    "#]\n",
    "#c.executemany(\"INSERT INTO dogimages VALUES (?, ?, ?)\", dog_row)"
   ]
  },
  {
   "cell_type": "code",
   "execution_count": 5,
   "metadata": {},
   "outputs": [
    {
     "name": "stdout",
     "output_type": "stream",
     "text": [
      "[(1, 'Pekenese', 'fdsat23t23'), (1, 'Pekenese', 'fdsat23t23')]\n"
     ]
    }
   ],
   "source": [
    "c.execute(\"SELECT * FROM dogimages LIMIT 10\")\n",
    "print(c.fetchall())\n",
    "\n",
    "my_table = c.fetchall()\n",
    "\n",
    "for i in my_table:\n",
    "    print(i)"
   ]
  },
  {
   "cell_type": "code",
   "execution_count": 6,
   "metadata": {},
   "outputs": [],
   "source": [
    "conn.close()"
   ]
  }
 ],
 "metadata": {
  "kernelspec": {
   "display_name": "Python 3 (ipykernel)",
   "language": "python",
   "name": "python3"
  },
  "language_info": {
   "codemirror_mode": {
    "name": "ipython",
    "version": 3
   },
   "file_extension": ".py",
   "mimetype": "text/x-python",
   "name": "python",
   "nbconvert_exporter": "python",
   "pygments_lexer": "ipython3",
   "version": "3.11.5"
  }
 },
 "nbformat": 4,
 "nbformat_minor": 2
}
